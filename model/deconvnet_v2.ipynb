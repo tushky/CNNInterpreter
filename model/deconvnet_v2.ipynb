{
 "cells": [
  {
   "cell_type": "code",
   "execution_count": 1,
   "metadata": {},
   "outputs": [],
   "source": [
    "import os\n",
    "import sys\n",
    "sys.path.insert(1, '../utils')\n",
    "from utils import read_image, process_deconv_output\n",
    "import math\n",
    "import torch\n",
    "import torchvision\n",
    "import numpy as np\n",
    "from hook import Hook\n",
    "from tqdm import tqdm\n",
    "from PIL import Image\n",
    "import torch.nn as nn\n",
    "from torchvision import models\n",
    "import torch.nn.functional as F\n",
    "from collections import OrderedDict\n",
    "import matplotlib.pyplot as plt\n",
    "from torchvision.utils import make_grid, save_image\n",
    "from hook import Hook, set_hook"
   ]
  },
  {
   "cell_type": "code",
   "execution_count": 2,
   "metadata": {},
   "outputs": [],
   "source": [
    "conv_out = {}\n",
    "def get_output(output):\n",
    "    print(output.shape)\n",
    "    conv_out[0] = output.detach()\n",
    "    return output"
   ]
  },
  {
   "cell_type": "code",
   "execution_count": 21,
   "metadata": {},
   "outputs": [],
   "source": [
    "def get_input(input):\n",
    "\n",
    "    t = conv_out[0]\n",
    "    print(f't shape : {t.shape}')\n",
    "    max_activation = [None] * t.shape[1]\n",
    "\n",
    "    # For each of the feature map find the maximum activation\n",
    "    for kernal in range(t.shape[1]):\n",
    "        max_activation[kernal] = (kernal, torch.max(t[0, kernal, :, :]).item(),\n",
    "            torch.argmax(t[0, kernal, :, :]).item())\n",
    "\n",
    "    # Sort features according to their maximum activation value    \n",
    "    max_activation.sort(key=lambda x: x[1], reverse=True)\n",
    "\n",
    "    # Construct \"num_kernel\" number of input tensor for deconv model\n",
    "    dconv_input = torch.zeros_like(t)\n",
    "    index = np.unravel_index(max_activation[0][2], (t.shape[2], t.shape[3]))\n",
    "    #dconv_input[0, max_activation[0][0], index[0], index[1]] = t[0, max_activation[0][0], index[0], index[1]]\n",
    "    dconv_input[0, max_activation[0][0], index[0], index[1]] = 1.0\n",
    "    #return (dconv_input,)\n",
    "    return (dconv_input, input[1], input[2])"
   ]
  },
  {
   "cell_type": "code",
   "execution_count": 22,
   "metadata": {},
   "outputs": [],
   "source": [
    "imagenet = models.vgg16(pretrained=True)\n",
    "imagenet = imagenet.eval()"
   ]
  },
  {
   "cell_type": "code",
   "execution_count": 23,
   "metadata": {},
   "outputs": [],
   "source": [
    "image_path = '../test/birds.jpg'\n",
    "image = read_image(image_path)\n",
    "image.requires_grad=True"
   ]
  },
  {
   "cell_type": "code",
   "execution_count": 24,
   "metadata": {},
   "outputs": [
    {
     "name": "stdout",
     "output_type": "stream",
     "text": [
      "forward hook set on layer features_28\n",
      "backward hook set on layer features_28\n",
      "features_28 layer hooked\n",
      "torch.Size([1, 512, 14, 14])\n",
      "forward hook executed on layer features_28\n",
      "tensor(-2.5003, grad_fn=<SumBackward0>)\n",
      "t shape : torch.Size([1, 512, 14, 14])\n",
      "backward hook executed on layer features_28\n",
      "[<hook.Hook object at 0x7f21936963d0>, <hook.Hook object at 0x7f21936968e0>]\n",
      "forward hook on layer features_28 removed\n",
      "backward hook on layer features_28 removed\n"
     ]
    },
    {
     "data": {
      "image/png": "[encoded data removed]",
      "text/plain": [
       "<Figure size 576x576 with 1 Axes>"
      ]
     },
     "metadata": {
      "needs_background": "light"
     },
     "output_type": "display_data"
    }
   ],
   "source": [
    "hooks = set_hook(imagenet, backward_input_fn = get_input, forward_output_fn = get_output)\n",
    "out = imagenet(image)\n",
    "loss = torch.sum(out)\n",
    "print(loss)\n",
    "loss.backward()\n",
    "print(hooks)\n",
    "for hook in hooks:\n",
    "    hook.remove()\n",
    "out = process_deconv_output(image.grad.detach())\n",
    "out = torchvision.utils.make_grid(out.unsqueeze(0), normalize=True)\n",
    "plt.gcf().set_size_inches(8, 8)\n",
    "plt.axis('off')\n",
    "plt.imshow(out.permute(1, 2, 0))\n",
    "plt.show()"
   ]
  },
  {
   "cell_type": "code",
   "execution_count": 26,
   "metadata": {},
   "outputs": [],
   "source": [
    "t = torch.randn(2, 2)"
   ]
  },
  {
   "cell_type": "code",
   "execution_count": 27,
   "metadata": {},
   "outputs": [
    {
     "data": {
      "text/plain": [
       "tensor([[ 0.6118, -0.9648],\n",
       "        [-0.8596, -1.4404]])"
      ]
     },
     "execution_count": 27,
     "metadata": {},
     "output_type": "execute_result"
    }
   ],
   "source": [
    "t"
   ]
  },
  {
   "cell_type": "code",
   "execution_count": 29,
   "metadata": {},
   "outputs": [],
   "source": [
    "t = nn.Conv2d(2, 2, 3)"
   ]
  },
  {
   "cell_type": "code",
   "execution_count": 31,
   "metadata": {},
   "outputs": [],
   "source": [
    "t.register_backward_hook??"
   ]
  },
  {
   "cell_type": "code",
   "execution_count": null,
   "metadata": {},
   "outputs": [],
   "source": []
  }
 ],
 "metadata": {
  "kernelspec": {
   "display_name": "Python 3",
   "language": "python",
   "name": "python3"
  },
  "language_info": {
   "codemirror_mode": {
    "name": "ipython",
    "version": 3
   },
   "file_extension": ".py",
   "mimetype": "text/x-python",
   "name": "python",
   "nbconvert_exporter": "python",
   "pygments_lexer": "ipython3",
   "version": "3.8.5"
  }
 },
 "nbformat": 4,
 "nbformat_minor": 4
}
